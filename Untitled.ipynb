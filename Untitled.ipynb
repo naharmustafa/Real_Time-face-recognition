{
 "cells": [
  {
   "cell_type": "code",
   "execution_count": 6,
   "metadata": {},
   "outputs": [
    {
     "ename": "ModuleNotFoundError",
     "evalue": "No module named 'face_recognization'",
     "output_type": "error",
     "traceback": [
      "\u001b[1;31m---------------------------------------------------------------------------\u001b[0m",
      "\u001b[1;31mModuleNotFoundError\u001b[0m                       Traceback (most recent call last)",
      "\u001b[1;32m<ipython-input-6-f62e41c2e5fe>\u001b[0m in \u001b[0;36m<module>\u001b[1;34m\u001b[0m\n\u001b[0;32m      1\u001b[0m \u001b[1;32mimport\u001b[0m \u001b[0mcv2\u001b[0m\u001b[1;33m\u001b[0m\u001b[1;33m\u001b[0m\u001b[0m\n\u001b[0;32m      2\u001b[0m \u001b[1;32mimport\u001b[0m \u001b[0mnumpy\u001b[0m \u001b[1;32mas\u001b[0m \u001b[0mnp\u001b[0m\u001b[1;33m\u001b[0m\u001b[1;33m\u001b[0m\u001b[0m\n\u001b[1;32m----> 3\u001b[1;33m \u001b[1;32mimport\u001b[0m \u001b[0mface_recognization\u001b[0m\u001b[1;33m\u001b[0m\u001b[1;33m\u001b[0m\u001b[0m\n\u001b[0m",
      "\u001b[1;31mModuleNotFoundError\u001b[0m: No module named 'face_recognization'"
     ]
    }
   ],
   "source": [
    "import cv2\n",
    "import numpy as np\n",
    "import face_recognization"
   ]
  },
  {
   "cell_type": "code",
   "execution_count": null,
   "metadata": {},
   "outputs": [],
   "source": [
    "!pip install face_recognition\n"
   ]
  },
  {
   "cell_type": "code",
   "execution_count": null,
   "metadata": {},
   "outputs": [
    {
     "name": "stdout",
     "output_type": "stream",
     "text": [
      "(139, 324, 325, 139)\n",
      "(139, 324, 325, 139)\n",
      "[True]\n",
      "[0.26627628]\n"
     ]
    }
   ],
   "source": [
    "import cv2\n",
    "import numpy as np\n",
    "import face_recognition\n",
    "\n",
    "imgElon=face_recognition.load_image_file('Elon Musk.jpg')\n",
    "imgElon=cv2.cvtColor(imgElon,cv2.COLOR_BGR2RGB)\n",
    "imgtest=face_recognition.load_image_file('ELON TEST.jpg')\n",
    "imgtest=cv2.cvtColor(imgtest,cv2.COLOR_BGR2RGB)\n",
    "\n",
    "faceloc=face_recognition.face_locations(imgElon)[0]\n",
    "encodeElon=face_recognition.face_encodings(imgElon)[0]\n",
    "cv2.rectangle(imgElon,(faceloc[3],faceloc[0]),(faceloc[1],faceloc[2]),(255,0,255),2)\n",
    "print(faceloc)\n",
    "\n",
    "facelocTest=face_recognition.face_locations(imgtest)[0]\n",
    "encodeTest=face_recognition.face_encodings(imgtest)[0]\n",
    "cv2.rectangle(imgtest,(facelocTest[3],facelocTest[0]),(facelocTest[1],facelocTest[2]),(255,0,255),2)\n",
    "print(faceloc)\n",
    "\n",
    "result = face_recognition.compare_faces([encodeElon],encodeTest)\n",
    "print(result)\n",
    "\n",
    "faceDis=face_recognition.face_distance([encodeElon],encodeTest)\n",
    "print(faceDis)\n",
    "\n",
    "\n",
    "cv2.imshow(\"Elon Musk\",imgElon)\n",
    "cv2.imshow(\"Elon Musk Test\",imgtest)\n",
    "cv2.waitKey(0)"
   ]
  },
  {
   "cell_type": "code",
   "execution_count": 1,
   "metadata": {},
   "outputs": [],
   "source": [
    "import cv2"
   ]
  },
  {
   "cell_type": "code",
   "execution_count": 1,
   "metadata": {},
   "outputs": [
    {
     "name": "stdout",
     "output_type": "stream",
     "text": [
      "['Bill Gates.jpg', 'Elon Musk.jpg', 'ELON TEST.jpg', 'Mustafa Nahar.jpg']\n",
      "['Bill Gates', 'Elon Musk', 'ELON TEST', 'Mustafa Nahar']\n",
      "Encoding Completed !!!\n"
     ]
    }
   ],
   "source": [
    "import cv2\n",
    "import numpy as np\n",
    "import face_recognition\n",
    "import os\n",
    "\n",
    "path='imageAttendence/'\n",
    "images=[]\n",
    "classNames=[]\n",
    "mylist=os.listdir(path)\n",
    "print(mylist)\n",
    "\n",
    "for cl in mylist:\n",
    "    curImg=cv2.imread(f'{path}/{cl}')\n",
    "    images.append(curImg)\n",
    "    classNames.append(os.path.splitext(cl)[0])\n",
    "print(classNames)\n",
    "\n",
    "def findEncoding(images):\n",
    "    encodeList=[]\n",
    "    for img in images:\n",
    "        img=cv2.cvtColor(img,cv2.COLOR_BGR2RGB)\n",
    "        encode=face_recognition.face_encodings(img)[0]\n",
    "        encodeList.append(encode)\n",
    "    return encodeList\n",
    "\n",
    "encodeListKnown=findEncoding(images)\n",
    "print('Encoding Completed !!!')\n",
    "       \n",
    "cam=cv2.VideoCapture(0)\n",
    "while True:\n",
    "    success , img = cam.read()\n",
    "    imgS=cv2.resize(img,(0,0),None,0.25,0.25)\n",
    "    imgS=cv2.cvtColor(imgS,cv2.COLOR_BGR2RGB)\n",
    "    \n",
    "    FaceCurFrame = face_recognition.face_locations(imgS)\n",
    "    encodeCurFrame=face_recognition.face_encodings(imgS,FaceCurFrame)\n",
    "    \n",
    "    for encodeface , faceloc in zip(encodeCurFrame,FaceCurFrame):\n",
    "        matches=face_recognition.compare_faces(encodeListKnown,encodeface)\n",
    "        FaceDis=face_recognition.face_distance(encodeListKnown,encodeface)\n",
    "        print(FaceDis)\n",
    "        \n",
    "        matchesIndex = np.argmin(FaceDis)\n",
    "        \n",
    "        if matches[matchesIndex]:\n",
    "            name = classNames[matchesIndex].upper()\n",
    "            print(name)\n",
    "            \n",
    "            y1,x2,y2,x1=faceloc\n",
    "            y1,x2,y2,x1=y1*4,x2*4,y2*4,x1*4\n",
    "            cv2.rectangle(img,(x1,y1),(x2,y2),(0,255,0),2)\n",
    "            cv2.rectangle(img,(x1,y2-35),(x2,y2),(0,255,0),cv2.FILLED)\n",
    "            cv2.putText(img,name,(x1+6,y2-6),cv2.FONT_HERSHEY_COMPLEX,1,(255,255,255),2)\n",
    "            \n",
    "    \n",
    "    if cv2.waitKey(0)==ord('q'):\n",
    "        break\n",
    "    cv2.imshow('Webcam',img)\n",
    "    cv2.waitKey(1)\n",
    "    \n",
    "    "
   ]
  },
  {
   "cell_type": "code",
   "execution_count": null,
   "metadata": {},
   "outputs": [],
   "source": []
  }
 ],
 "metadata": {
  "kernelspec": {
   "display_name": "Python 3",
   "language": "python",
   "name": "python3"
  },
  "language_info": {
   "codemirror_mode": {
    "name": "ipython",
    "version": 3
   },
   "file_extension": ".py",
   "mimetype": "text/x-python",
   "name": "python",
   "nbconvert_exporter": "python",
   "pygments_lexer": "ipython3",
   "version": "3.7.10"
  }
 },
 "nbformat": 4,
 "nbformat_minor": 4
}
